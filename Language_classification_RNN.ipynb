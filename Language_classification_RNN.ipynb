{
  "nbformat": 4,
  "nbformat_minor": 0,
  "metadata": {
    "colab": {
      "provenance": [],
      "authorship_tag": "ABX9TyMijkYuw3dSH3zduhJJaKjG",
      "include_colab_link": true
    },
    "kernelspec": {
      "name": "python3",
      "display_name": "Python 3"
    },
    "language_info": {
      "name": "python"
    }
  },
  "cells": [
    {
      "cell_type": "markdown",
      "metadata": {
        "id": "view-in-github",
        "colab_type": "text"
      },
      "source": [
        "<a href=\"https://colab.research.google.com/github/samyarsworld/Language-classification-RNN/blob/main/Language_classification_RNN.ipynb\" target=\"_parent\"><img src=\"https://colab.research.google.com/assets/colab-badge.svg\" alt=\"Open In Colab\"/></a>"
      ]
    },
    {
      "cell_type": "markdown",
      "source": [
        "# Language Detection"
      ],
      "metadata": {
        "id": "c-Sqcul1tCFW"
      }
    },
    {
      "cell_type": "markdown",
      "source": [
        "### 1. Download the project repository:\n",
        "\n",
        "Repository address: https://github.com/samyarsworld/Language-classification-RNN/tree/main\n",
        "\n",
        "The directory includes the data directory, a python utils file containing helper functions, and Python version of the code."
      ],
      "metadata": {
        "id": "4L6U-3nx4eRZ"
      }
    },
    {
      "cell_type": "code",
      "source": [
        "!git clone https://github.com/samyarsworld/Language-classification-RNN\n",
        "%cd Language-classification-RNN"
      ],
      "metadata": {
        "colab": {
          "base_uri": "https://localhost:8080/"
        },
        "id": "6_ef6OWw4uoW",
        "outputId": "06b6e4ad-e576-4044-f9c4-6f58bd8fc10a"
      },
      "execution_count": 3,
      "outputs": [
        {
          "output_type": "stream",
          "name": "stdout",
          "text": [
            "Cloning into 'Language-classification-RNN'...\n",
            "remote: Enumerating objects: 43, done.\u001b[K\n",
            "remote: Counting objects:   2% (1/43)\u001b[K\rremote: Counting objects:   4% (2/43)\u001b[K\rremote: Counting objects:   6% (3/43)\u001b[K\rremote: Counting objects:   9% (4/43)\u001b[K\rremote: Counting objects:  11% (5/43)\u001b[K\rremote: Counting objects:  13% (6/43)\u001b[K\rremote: Counting objects:  16% (7/43)\u001b[K\rremote: Counting objects:  18% (8/43)\u001b[K\rremote: Counting objects:  20% (9/43)\u001b[K\rremote: Counting objects:  23% (10/43)\u001b[K\rremote: Counting objects:  25% (11/43)\u001b[K\rremote: Counting objects:  27% (12/43)\u001b[K\rremote: Counting objects:  30% (13/43)\u001b[K\rremote: Counting objects:  32% (14/43)\u001b[K\rremote: Counting objects:  34% (15/43)\u001b[K\rremote: Counting objects:  37% (16/43)\u001b[K\rremote: Counting objects:  39% (17/43)\u001b[K\rremote: Counting objects:  41% (18/43)\u001b[K\rremote: Counting objects:  44% (19/43)\u001b[K\rremote: Counting objects:  46% (20/43)\u001b[K\rremote: Counting objects:  48% (21/43)\u001b[K\rremote: Counting objects:  51% (22/43)\u001b[K\rremote: Counting objects:  53% (23/43)\u001b[K\rremote: Counting objects:  55% (24/43)\u001b[K\rremote: Counting objects:  58% (25/43)\u001b[K\rremote: Counting objects:  60% (26/43)\u001b[K\rremote: Counting objects:  62% (27/43)\u001b[K\rremote: Counting objects:  65% (28/43)\u001b[K\rremote: Counting objects:  67% (29/43)\u001b[K\rremote: Counting objects:  69% (30/43)\u001b[K\rremote: Counting objects:  72% (31/43)\u001b[K\rremote: Counting objects:  74% (32/43)\u001b[K\rremote: Counting objects:  76% (33/43)\u001b[K\rremote: Counting objects:  79% (34/43)\u001b[K\rremote: Counting objects:  81% (35/43)\u001b[K\rremote: Counting objects:  83% (36/43)\u001b[K\rremote: Counting objects:  86% (37/43)\u001b[K\rremote: Counting objects:  88% (38/43)\u001b[K\rremote: Counting objects:  90% (39/43)\u001b[K\rremote: Counting objects:  93% (40/43)\u001b[K\rremote: Counting objects:  95% (41/43)\u001b[K\rremote: Counting objects:  97% (42/43)\u001b[K\rremote: Counting objects: 100% (43/43)\u001b[K\rremote: Counting objects: 100% (43/43), done.\u001b[K\n",
            "remote: Compressing objects:   2% (1/36)\u001b[K\rremote: Compressing objects:   5% (2/36)\u001b[K\rremote: Compressing objects:   8% (3/36)\u001b[K\rremote: Compressing objects:  11% (4/36)\u001b[K\rremote: Compressing objects:  13% (5/36)\u001b[K\rremote: Compressing objects:  16% (6/36)\u001b[K\rremote: Compressing objects:  19% (7/36)\u001b[K\rremote: Compressing objects:  22% (8/36)\u001b[K\rremote: Compressing objects:  25% (9/36)\u001b[K\rremote: Compressing objects:  27% (10/36)\u001b[K\rremote: Compressing objects:  30% (11/36)\u001b[K\rremote: Compressing objects:  33% (12/36)\u001b[K\rremote: Compressing objects:  36% (13/36)\u001b[K\rremote: Compressing objects:  38% (14/36)\u001b[K\rremote: Compressing objects:  41% (15/36)\u001b[K\rremote: Compressing objects:  44% (16/36)\u001b[K\rremote: Compressing objects:  47% (17/36)\u001b[K\rremote: Compressing objects:  50% (18/36)\u001b[K\rremote: Compressing objects:  52% (19/36)\u001b[K\rremote: Compressing objects:  55% (20/36)\u001b[K\rremote: Compressing objects:  58% (21/36)\u001b[K\rremote: Compressing objects:  61% (22/36)\u001b[K\rremote: Compressing objects:  63% (23/36)\u001b[K\rremote: Compressing objects:  66% (24/36)\u001b[K\rremote: Compressing objects:  69% (25/36)\u001b[K\rremote: Compressing objects:  72% (26/36)\u001b[K\rremote: Compressing objects:  75% (27/36)\u001b[K\rremote: Compressing objects:  77% (28/36)\u001b[K\rremote: Compressing objects:  80% (29/36)\u001b[K\rremote: Compressing objects:  83% (30/36)\u001b[K\rremote: Compressing objects:  86% (31/36)\u001b[K\rremote: Compressing objects:  88% (32/36)\u001b[K\rremote: Compressing objects:  91% (33/36)\u001b[K\rremote: Compressing objects:  94% (34/36)\u001b[K\rremote: Compressing objects:  97% (35/36)\u001b[K\rremote: Compressing objects: 100% (36/36)\u001b[K\rremote: Compressing objects: 100% (36/36), done.\u001b[K\n",
            "Receiving objects:   2% (1/43)\rReceiving objects:   4% (2/43)\rReceiving objects:   6% (3/43)\rReceiving objects:   9% (4/43)\rReceiving objects:  11% (5/43)\rReceiving objects:  13% (6/43)\rReceiving objects:  16% (7/43)\rReceiving objects:  18% (8/43)\rReceiving objects:  20% (9/43)\rReceiving objects:  23% (10/43)\rReceiving objects:  25% (11/43)\rReceiving objects:  27% (12/43)\rReceiving objects:  30% (13/43)\rReceiving objects:  32% (14/43)\rReceiving objects:  34% (15/43)\rReceiving objects:  37% (16/43)\rReceiving objects:  39% (17/43)\rReceiving objects:  41% (18/43)\rReceiving objects:  44% (19/43)\rReceiving objects:  46% (20/43)\rReceiving objects:  48% (21/43)\rReceiving objects:  51% (22/43)\rReceiving objects:  53% (23/43)\rReceiving objects:  55% (24/43)\rReceiving objects:  58% (25/43)\rReceiving objects:  60% (26/43)\rReceiving objects:  62% (27/43)\rReceiving objects:  65% (28/43)\rReceiving objects:  67% (29/43)\rremote: Total 43 (delta 4), reused 13 (delta 2), pack-reused 0\u001b[K\n",
            "Receiving objects:  69% (30/43)\rReceiving objects:  72% (31/43)\rReceiving objects:  74% (32/43)\rReceiving objects:  76% (33/43)\rReceiving objects:  79% (34/43)\rReceiving objects:  81% (35/43)\rReceiving objects:  83% (36/43)\rReceiving objects:  86% (37/43)\rReceiving objects:  88% (38/43)\rReceiving objects:  90% (39/43)\rReceiving objects:  93% (40/43)\rReceiving objects:  95% (41/43)\rReceiving objects:  97% (42/43)\rReceiving objects: 100% (43/43)\rReceiving objects: 100% (43/43), 66.73 KiB | 6.67 MiB/s, done.\n",
            "Resolving deltas:   0% (0/4)\rResolving deltas:  25% (1/4)\rResolving deltas:  50% (2/4)\rResolving deltas:  75% (3/4)\rResolving deltas: 100% (4/4)\rResolving deltas: 100% (4/4), done.\n",
            "/content/Language-classification-RNN\n"
          ]
        }
      ]
    },
    {
      "cell_type": "markdown",
      "source": [
        "### 2. Import Required Libraries and Functions:"
      ],
      "metadata": {
        "id": "64FohhvJ6RSp"
      }
    },
    {
      "cell_type": "code",
      "source": [
        "import torch\n",
        "from torch import nn\n",
        "import matplotlib.pyplot as plt\n",
        "\n",
        "from utils import load_data, letter_to_tensor, LETTERS"
      ],
      "metadata": {
        "id": "l374yQKm6Uzg"
      },
      "execution_count": 5,
      "outputs": []
    },
    {
      "cell_type": "markdown",
      "source": [
        "### 3. Setup Initial Configurations:"
      ],
      "metadata": {
        "id": "ffLv0fpK7FKb"
      }
    },
    {
      "cell_type": "code",
      "source": [],
      "metadata": {
        "id": "ERuft1hD7G78"
      },
      "execution_count": 5,
      "outputs": []
    },
    {
      "cell_type": "markdown",
      "source": [
        "### 4. Create RNN Model:"
      ],
      "metadata": {
        "id": "WJpNVWAT7HHC"
      }
    },
    {
      "cell_type": "code",
      "source": [
        "class RNN(nn.Module):\n",
        "    def __init__(self, input_size, hidden_size, output_size) -> None:\n",
        "        super(RNN, self).__init__()\n",
        "        self.hidden_size = hidden_size\n",
        "        self.i2h = nn.Linear(in_features=input_size + hidden_size, out_features=hidden_size)\n",
        "        self.i2o = nn.Linear(in_features=input_size + hidden_size, out_features=output_size)\n",
        "        self.softmax = nn.LogSoftmax(dim=1)\n",
        "\n",
        "\n",
        "    def forward(self, x: torch.Tensor, h: torch.Tensor) -> torch.Tensor:\n",
        "        combined_tensor = torch.cat((x, h), dim=1)\n",
        "        return self.softmax(self.i2o(combined_tensor)), self.i2h(combined_tensor)"
      ],
      "metadata": {
        "id": "3obaRTYx7PFQ"
      },
      "execution_count": 6,
      "outputs": []
    },
    {
      "cell_type": "code",
      "source": [
        "classes, class_names = load_data()\n",
        "n_hidden = 128\n",
        "RNN_model = RNN(len(LETTERS), n_hidden, len(classes))\n",
        "\n",
        "output, next_hidden = RNN_model(letter_to_tensor(\"A\"), torch.zeros(1, n_hidden))\n",
        "\n",
        "print(letter_to_tensor(\"A\").shape)\n",
        "print(output.shape)\n",
        "print(next_hidden.shape)"
      ],
      "metadata": {
        "colab": {
          "base_uri": "https://localhost:8080/"
        },
        "id": "qrCCGq897SZL",
        "outputId": "7605809f-629c-4c58-ea4b-17fd19d46e2e"
      },
      "execution_count": 7,
      "outputs": [
        {
          "output_type": "stream",
          "name": "stdout",
          "text": [
            "torch.Size([1, 57])\n",
            "torch.Size([1, 18])\n",
            "torch.Size([1, 128])\n"
          ]
        }
      ]
    }
  ]
}